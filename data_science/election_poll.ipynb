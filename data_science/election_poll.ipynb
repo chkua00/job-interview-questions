{
 "cells": [
  {
   "cell_type": "markdown",
   "metadata": {},
   "source": [
    "# Election Poll"
   ]
  },
  {
   "cell_type": "markdown",
   "metadata": {},
   "source": [
    "Each day during 2019 an agency asked a hundred randomly selected people which party they would vote for if elections were held that day. Results of the poll were recorded in the following [file](data/electionpoll.csv). The Workers' Party asked for the report which they plan to use to improve their strategy for upcoming elections.\n",
    "\n",
    "Fill in the missing values in the report for 2019:"
   ]
  },
  {
   "cell_type": "markdown",
   "metadata": {},
   "source": [
    "**Solution:**"
   ]
  },
  {
   "cell_type": "markdown",
   "metadata": {},
   "source": [
    "Import required libraries."
   ]
  },
  {
   "cell_type": "code",
   "execution_count": 2,
   "metadata": {},
   "outputs": [],
   "source": [
    "import pandas as pd"
   ]
  },
  {
   "cell_type": "markdown",
   "metadata": {},
   "source": [
    "Import data."
   ]
  },
  {
   "cell_type": "code",
   "execution_count": 3,
   "metadata": {},
   "outputs": [
    {
     "data": {
      "text/html": [
       "<div>\n",
       "<style scoped>\n",
       "    .dataframe tbody tr th:only-of-type {\n",
       "        vertical-align: middle;\n",
       "    }\n",
       "\n",
       "    .dataframe tbody tr th {\n",
       "        vertical-align: top;\n",
       "    }\n",
       "\n",
       "    .dataframe thead th {\n",
       "        text-align: right;\n",
       "    }\n",
       "</style>\n",
       "<table border=\"1\" class=\"dataframe\">\n",
       "  <thead>\n",
       "    <tr style=\"text-align: right;\">\n",
       "      <th></th>\n",
       "      <th>Date \\ Party</th>\n",
       "      <th>National Party</th>\n",
       "      <th>People's Party</th>\n",
       "      <th>Alliance Party</th>\n",
       "      <th>Civic Party</th>\n",
       "      <th>Conservative Party</th>\n",
       "      <th>Liberal Party</th>\n",
       "      <th>Workers' Party</th>\n",
       "    </tr>\n",
       "  </thead>\n",
       "  <tbody>\n",
       "    <tr>\n",
       "      <th>0</th>\n",
       "      <td>2019-01-01</td>\n",
       "      <td>0</td>\n",
       "      <td>20</td>\n",
       "      <td>27</td>\n",
       "      <td>26</td>\n",
       "      <td>1</td>\n",
       "      <td>3</td>\n",
       "      <td>23</td>\n",
       "    </tr>\n",
       "    <tr>\n",
       "      <th>1</th>\n",
       "      <td>2019-01-02</td>\n",
       "      <td>0</td>\n",
       "      <td>19</td>\n",
       "      <td>28</td>\n",
       "      <td>26</td>\n",
       "      <td>1</td>\n",
       "      <td>4</td>\n",
       "      <td>22</td>\n",
       "    </tr>\n",
       "    <tr>\n",
       "      <th>2</th>\n",
       "      <td>2019-01-03</td>\n",
       "      <td>0</td>\n",
       "      <td>20</td>\n",
       "      <td>29</td>\n",
       "      <td>27</td>\n",
       "      <td>0</td>\n",
       "      <td>3</td>\n",
       "      <td>21</td>\n",
       "    </tr>\n",
       "    <tr>\n",
       "      <th>3</th>\n",
       "      <td>2019-01-04</td>\n",
       "      <td>0</td>\n",
       "      <td>22</td>\n",
       "      <td>25</td>\n",
       "      <td>25</td>\n",
       "      <td>1</td>\n",
       "      <td>2</td>\n",
       "      <td>25</td>\n",
       "    </tr>\n",
       "    <tr>\n",
       "      <th>4</th>\n",
       "      <td>2019-01-05</td>\n",
       "      <td>0</td>\n",
       "      <td>24</td>\n",
       "      <td>22</td>\n",
       "      <td>21</td>\n",
       "      <td>4</td>\n",
       "      <td>1</td>\n",
       "      <td>28</td>\n",
       "    </tr>\n",
       "  </tbody>\n",
       "</table>\n",
       "</div>"
      ],
      "text/plain": [
       "  Date \\ Party  National Party  People's Party  Alliance Party  Civic Party  \\\n",
       "0   2019-01-01               0              20              27           26   \n",
       "1   2019-01-02               0              19              28           26   \n",
       "2   2019-01-03               0              20              29           27   \n",
       "3   2019-01-04               0              22              25           25   \n",
       "4   2019-01-05               0              24              22           21   \n",
       "\n",
       "   Conservative Party  Liberal Party  Workers' Party  \n",
       "0                   1              3              23  \n",
       "1                   1              4              22  \n",
       "2                   0              3              21  \n",
       "3                   1              2              25  \n",
       "4                   4              1              28  "
      ]
     },
     "execution_count": 3,
     "metadata": {},
     "output_type": "execute_result"
    }
   ],
   "source": [
    "filepath = \"data/electionpoll.csv\"\n",
    "data = pd.read_csv(filepath)\n",
    "data.head()"
   ]
  },
  {
   "cell_type": "code",
   "execution_count": 12,
   "metadata": {},
   "outputs": [
    {
     "data": {
      "text/html": [
       "<div>\n",
       "<style scoped>\n",
       "    .dataframe tbody tr th:only-of-type {\n",
       "        vertical-align: middle;\n",
       "    }\n",
       "\n",
       "    .dataframe tbody tr th {\n",
       "        vertical-align: top;\n",
       "    }\n",
       "\n",
       "    .dataframe thead th {\n",
       "        text-align: right;\n",
       "    }\n",
       "</style>\n",
       "<table border=\"1\" class=\"dataframe\">\n",
       "  <thead>\n",
       "    <tr style=\"text-align: right;\">\n",
       "      <th></th>\n",
       "      <th>National Party</th>\n",
       "      <th>People's Party</th>\n",
       "      <th>Alliance Party</th>\n",
       "      <th>Civic Party</th>\n",
       "      <th>Conservative Party</th>\n",
       "      <th>Liberal Party</th>\n",
       "      <th>Workers' Party</th>\n",
       "    </tr>\n",
       "  </thead>\n",
       "  <tbody>\n",
       "    <tr>\n",
       "      <th>count</th>\n",
       "      <td>365.000000</td>\n",
       "      <td>365.000000</td>\n",
       "      <td>365.000000</td>\n",
       "      <td>365.000000</td>\n",
       "      <td>365.000000</td>\n",
       "      <td>365.000000</td>\n",
       "      <td>365.000000</td>\n",
       "    </tr>\n",
       "    <tr>\n",
       "      <th>mean</th>\n",
       "      <td>1.789041</td>\n",
       "      <td>8.145205</td>\n",
       "      <td>19.638356</td>\n",
       "      <td>27.391781</td>\n",
       "      <td>2.263014</td>\n",
       "      <td>12.087671</td>\n",
       "      <td>28.684932</td>\n",
       "    </tr>\n",
       "    <tr>\n",
       "      <th>std</th>\n",
       "      <td>4.499315</td>\n",
       "      <td>8.240763</td>\n",
       "      <td>6.351054</td>\n",
       "      <td>3.901597</td>\n",
       "      <td>1.648135</td>\n",
       "      <td>8.768261</td>\n",
       "      <td>3.790085</td>\n",
       "    </tr>\n",
       "    <tr>\n",
       "      <th>min</th>\n",
       "      <td>0.000000</td>\n",
       "      <td>0.000000</td>\n",
       "      <td>2.000000</td>\n",
       "      <td>18.000000</td>\n",
       "      <td>0.000000</td>\n",
       "      <td>0.000000</td>\n",
       "      <td>14.000000</td>\n",
       "    </tr>\n",
       "    <tr>\n",
       "      <th>25%</th>\n",
       "      <td>0.000000</td>\n",
       "      <td>1.000000</td>\n",
       "      <td>17.000000</td>\n",
       "      <td>24.000000</td>\n",
       "      <td>1.000000</td>\n",
       "      <td>3.000000</td>\n",
       "      <td>26.000000</td>\n",
       "    </tr>\n",
       "    <tr>\n",
       "      <th>50%</th>\n",
       "      <td>0.000000</td>\n",
       "      <td>3.000000</td>\n",
       "      <td>21.000000</td>\n",
       "      <td>27.000000</td>\n",
       "      <td>2.000000</td>\n",
       "      <td>15.000000</td>\n",
       "      <td>29.000000</td>\n",
       "    </tr>\n",
       "    <tr>\n",
       "      <th>75%</th>\n",
       "      <td>0.000000</td>\n",
       "      <td>16.000000</td>\n",
       "      <td>24.000000</td>\n",
       "      <td>30.000000</td>\n",
       "      <td>3.000000</td>\n",
       "      <td>20.000000</td>\n",
       "      <td>32.000000</td>\n",
       "    </tr>\n",
       "    <tr>\n",
       "      <th>max</th>\n",
       "      <td>18.000000</td>\n",
       "      <td>24.000000</td>\n",
       "      <td>36.000000</td>\n",
       "      <td>37.000000</td>\n",
       "      <td>6.000000</td>\n",
       "      <td>29.000000</td>\n",
       "      <td>36.000000</td>\n",
       "    </tr>\n",
       "  </tbody>\n",
       "</table>\n",
       "</div>"
      ],
      "text/plain": [
       "       National Party  People's Party  Alliance Party  Civic Party  \\\n",
       "count      365.000000      365.000000      365.000000   365.000000   \n",
       "mean         1.789041        8.145205       19.638356    27.391781   \n",
       "std          4.499315        8.240763        6.351054     3.901597   \n",
       "min          0.000000        0.000000        2.000000    18.000000   \n",
       "25%          0.000000        1.000000       17.000000    24.000000   \n",
       "50%          0.000000        3.000000       21.000000    27.000000   \n",
       "75%          0.000000       16.000000       24.000000    30.000000   \n",
       "max         18.000000       24.000000       36.000000    37.000000   \n",
       "\n",
       "       Conservative Party  Liberal Party  Workers' Party  \n",
       "count          365.000000     365.000000      365.000000  \n",
       "mean             2.263014      12.087671       28.684932  \n",
       "std              1.648135       8.768261        3.790085  \n",
       "min              0.000000       0.000000       14.000000  \n",
       "25%              1.000000       3.000000       26.000000  \n",
       "50%              2.000000      15.000000       29.000000  \n",
       "75%              3.000000      20.000000       32.000000  \n",
       "max              6.000000      29.000000       36.000000  "
      ]
     },
     "execution_count": 12,
     "metadata": {},
     "output_type": "execute_result"
    }
   ],
   "source": [
    "data.describe()"
   ]
  },
  {
   "cell_type": "code",
   "execution_count": 9,
   "metadata": {},
   "outputs": [
    {
     "data": {
      "text/plain": [
       "28.684931506849313"
      ]
     },
     "execution_count": 9,
     "metadata": {},
     "output_type": "execute_result"
    }
   ],
   "source": [
    "data[\"Workers' Party\"].mean()"
   ]
  },
  {
   "cell_type": "markdown",
   "metadata": {},
   "source": [
    "- The arithmetic mean of votes for the Workers' Party is: 28.7 (rounded to one decimal place)"
   ]
  },
  {
   "cell_type": "code",
   "execution_count": 10,
   "metadata": {},
   "outputs": [
    {
     "data": {
      "text/plain": [
       "29.0"
      ]
     },
     "execution_count": 10,
     "metadata": {},
     "output_type": "execute_result"
    }
   ],
   "source": [
    "data[\"Workers' Party\"].median()"
   ]
  },
  {
   "cell_type": "markdown",
   "metadata": {},
   "source": [
    "- The median of votes for the Workers' party is: 29 (rounded to closest integer)"
   ]
  },
  {
   "cell_type": "code",
   "execution_count": 11,
   "metadata": {},
   "outputs": [
    {
     "data": {
      "text/plain": [
       "3.7900850708390332"
      ]
     },
     "execution_count": 11,
     "metadata": {},
     "output_type": "execute_result"
    }
   ],
   "source": [
    "data[\"Workers' Party\"].std()"
   ]
  },
  {
   "cell_type": "markdown",
   "metadata": {},
   "source": [
    "- The standard deviation of votes for the Workers' party is: 3.8 (rounded to one decimal place)"
   ]
  },
  {
   "cell_type": "code",
   "execution_count": 32,
   "metadata": {},
   "outputs": [
    {
     "data": {
      "text/html": [
       "<div>\n",
       "<style scoped>\n",
       "    .dataframe tbody tr th:only-of-type {\n",
       "        vertical-align: middle;\n",
       "    }\n",
       "\n",
       "    .dataframe tbody tr th {\n",
       "        vertical-align: top;\n",
       "    }\n",
       "\n",
       "    .dataframe thead th {\n",
       "        text-align: right;\n",
       "    }\n",
       "</style>\n",
       "<table border=\"1\" class=\"dataframe\">\n",
       "  <thead>\n",
       "    <tr style=\"text-align: right;\">\n",
       "      <th></th>\n",
       "      <th>National Party</th>\n",
       "      <th>People's Party</th>\n",
       "      <th>Alliance Party</th>\n",
       "      <th>Civic Party</th>\n",
       "      <th>Conservative Party</th>\n",
       "      <th>Liberal Party</th>\n",
       "      <th>Workers' Party</th>\n",
       "    </tr>\n",
       "  </thead>\n",
       "  <tbody>\n",
       "    <tr>\n",
       "      <th>count</th>\n",
       "      <td>31.000000</td>\n",
       "      <td>31.000000</td>\n",
       "      <td>31.000000</td>\n",
       "      <td>31.000000</td>\n",
       "      <td>31.000000</td>\n",
       "      <td>31.000000</td>\n",
       "      <td>31.000000</td>\n",
       "    </tr>\n",
       "    <tr>\n",
       "      <th>mean</th>\n",
       "      <td>0.129032</td>\n",
       "      <td>18.580645</td>\n",
       "      <td>21.387097</td>\n",
       "      <td>27.225806</td>\n",
       "      <td>2.096774</td>\n",
       "      <td>1.935484</td>\n",
       "      <td>28.645161</td>\n",
       "    </tr>\n",
       "    <tr>\n",
       "      <th>std</th>\n",
       "      <td>0.499462</td>\n",
       "      <td>2.526845</td>\n",
       "      <td>2.538732</td>\n",
       "      <td>2.616737</td>\n",
       "      <td>1.535249</td>\n",
       "      <td>1.504116</td>\n",
       "      <td>2.483927</td>\n",
       "    </tr>\n",
       "    <tr>\n",
       "      <th>min</th>\n",
       "      <td>0.000000</td>\n",
       "      <td>14.000000</td>\n",
       "      <td>17.000000</td>\n",
       "      <td>22.000000</td>\n",
       "      <td>0.000000</td>\n",
       "      <td>0.000000</td>\n",
       "      <td>24.000000</td>\n",
       "    </tr>\n",
       "    <tr>\n",
       "      <th>25%</th>\n",
       "      <td>0.000000</td>\n",
       "      <td>16.500000</td>\n",
       "      <td>19.500000</td>\n",
       "      <td>25.500000</td>\n",
       "      <td>1.000000</td>\n",
       "      <td>1.000000</td>\n",
       "      <td>27.000000</td>\n",
       "    </tr>\n",
       "    <tr>\n",
       "      <th>50%</th>\n",
       "      <td>0.000000</td>\n",
       "      <td>19.000000</td>\n",
       "      <td>21.000000</td>\n",
       "      <td>28.000000</td>\n",
       "      <td>2.000000</td>\n",
       "      <td>2.000000</td>\n",
       "      <td>29.000000</td>\n",
       "    </tr>\n",
       "    <tr>\n",
       "      <th>75%</th>\n",
       "      <td>0.000000</td>\n",
       "      <td>21.000000</td>\n",
       "      <td>23.000000</td>\n",
       "      <td>29.000000</td>\n",
       "      <td>3.000000</td>\n",
       "      <td>3.000000</td>\n",
       "      <td>30.500000</td>\n",
       "    </tr>\n",
       "    <tr>\n",
       "      <th>max</th>\n",
       "      <td>2.000000</td>\n",
       "      <td>23.000000</td>\n",
       "      <td>26.000000</td>\n",
       "      <td>32.000000</td>\n",
       "      <td>5.000000</td>\n",
       "      <td>5.000000</td>\n",
       "      <td>33.000000</td>\n",
       "    </tr>\n",
       "  </tbody>\n",
       "</table>\n",
       "</div>"
      ],
      "text/plain": [
       "       National Party  People's Party  Alliance Party  Civic Party  \\\n",
       "count       31.000000       31.000000       31.000000    31.000000   \n",
       "mean         0.129032       18.580645       21.387097    27.225806   \n",
       "std          0.499462        2.526845        2.538732     2.616737   \n",
       "min          0.000000       14.000000       17.000000    22.000000   \n",
       "25%          0.000000       16.500000       19.500000    25.500000   \n",
       "50%          0.000000       19.000000       21.000000    28.000000   \n",
       "75%          0.000000       21.000000       23.000000    29.000000   \n",
       "max          2.000000       23.000000       26.000000    32.000000   \n",
       "\n",
       "       Conservative Party  Liberal Party  Workers' Party  \n",
       "count           31.000000      31.000000       31.000000  \n",
       "mean             2.096774       1.935484       28.645161  \n",
       "std              1.535249       1.504116        2.483927  \n",
       "min              0.000000       0.000000       24.000000  \n",
       "25%              1.000000       1.000000       27.000000  \n",
       "50%              2.000000       2.000000       29.000000  \n",
       "75%              3.000000       3.000000       30.500000  \n",
       "max              5.000000       5.000000       33.000000  "
      ]
     },
     "execution_count": 32,
     "metadata": {},
     "output_type": "execute_result"
    }
   ],
   "source": [
    "data['Date'] = pd.to_datetime(data['Date \\ Party'])\n",
    "march_data = data[data['Date'].dt.month == 3]\n",
    "march_data.describe()"
   ]
  },
  {
   "cell_type": "markdown",
   "metadata": {},
   "source": [
    "- The difference between the largest and the smallest number of votes for the Workers' party for March is: 9"
   ]
  },
  {
   "cell_type": "code",
   "execution_count": 13,
   "metadata": {},
   "outputs": [
    {
     "data": {
      "text/plain": [
       "Date \\ Party          2019-12-31\n",
       "National Party                18\n",
       "People's Party                24\n",
       "Alliance Party                36\n",
       "Civic Party                   37\n",
       "Conservative Party             6\n",
       "Liberal Party                 29\n",
       "Workers' Party                36\n",
       "dtype: object"
      ]
     },
     "execution_count": 13,
     "metadata": {},
     "output_type": "execute_result"
    }
   ],
   "source": [
    "data.max()"
   ]
  },
  {
   "cell_type": "markdown",
   "metadata": {},
   "source": [
    "- The largest number of votes that any party received on any day is: 37 votes."
   ]
  },
  {
   "cell_type": "code",
   "execution_count": 18,
   "metadata": {},
   "outputs": [
    {
     "data": {
      "text/plain": [
       "352"
      ]
     },
     "execution_count": 18,
     "metadata": {},
     "output_type": "execute_result"
    }
   ],
   "source": [
    "data['Civic Party'].idxmax()"
   ]
  },
  {
   "cell_type": "code",
   "execution_count": 20,
   "metadata": {},
   "outputs": [
    {
     "data": {
      "text/plain": [
       "'2019-12-19'"
      ]
     },
     "execution_count": 20,
     "metadata": {},
     "output_type": "execute_result"
    }
   ],
   "source": [
    "data[\"Date \\ Party\"][352]"
   ]
  },
  {
   "cell_type": "markdown",
   "metadata": {},
   "source": [
    "- That maximum was achieved on 2019-12-19 by Civic Party."
   ]
  },
  {
   "cell_type": "code",
   "execution_count": 25,
   "metadata": {},
   "outputs": [
    {
     "data": {
      "text/html": [
       "<div>\n",
       "<style scoped>\n",
       "    .dataframe tbody tr th:only-of-type {\n",
       "        vertical-align: middle;\n",
       "    }\n",
       "\n",
       "    .dataframe tbody tr th {\n",
       "        vertical-align: top;\n",
       "    }\n",
       "\n",
       "    .dataframe thead th {\n",
       "        text-align: right;\n",
       "    }\n",
       "</style>\n",
       "<table border=\"1\" class=\"dataframe\">\n",
       "  <thead>\n",
       "    <tr style=\"text-align: right;\">\n",
       "      <th></th>\n",
       "      <th>National Party</th>\n",
       "      <th>People's Party</th>\n",
       "      <th>Alliance Party</th>\n",
       "      <th>Civic Party</th>\n",
       "      <th>Conservative Party</th>\n",
       "      <th>Liberal Party</th>\n",
       "      <th>Workers' Party</th>\n",
       "    </tr>\n",
       "  </thead>\n",
       "  <tbody>\n",
       "    <tr>\n",
       "      <th>count</th>\n",
       "      <td>365.000000</td>\n",
       "      <td>365.000000</td>\n",
       "      <td>365.000000</td>\n",
       "      <td>365.000000</td>\n",
       "      <td>365.000000</td>\n",
       "      <td>365.000000</td>\n",
       "      <td>365.000000</td>\n",
       "    </tr>\n",
       "    <tr>\n",
       "      <th>mean</th>\n",
       "      <td>1.789041</td>\n",
       "      <td>8.145205</td>\n",
       "      <td>19.638356</td>\n",
       "      <td>27.391781</td>\n",
       "      <td>2.263014</td>\n",
       "      <td>12.087671</td>\n",
       "      <td>28.684932</td>\n",
       "    </tr>\n",
       "    <tr>\n",
       "      <th>std</th>\n",
       "      <td>4.499315</td>\n",
       "      <td>8.240763</td>\n",
       "      <td>6.351054</td>\n",
       "      <td>3.901597</td>\n",
       "      <td>1.648135</td>\n",
       "      <td>8.768261</td>\n",
       "      <td>3.790085</td>\n",
       "    </tr>\n",
       "    <tr>\n",
       "      <th>min</th>\n",
       "      <td>0.000000</td>\n",
       "      <td>0.000000</td>\n",
       "      <td>2.000000</td>\n",
       "      <td>18.000000</td>\n",
       "      <td>0.000000</td>\n",
       "      <td>0.000000</td>\n",
       "      <td>14.000000</td>\n",
       "    </tr>\n",
       "    <tr>\n",
       "      <th>25%</th>\n",
       "      <td>0.000000</td>\n",
       "      <td>1.000000</td>\n",
       "      <td>17.000000</td>\n",
       "      <td>24.000000</td>\n",
       "      <td>1.000000</td>\n",
       "      <td>3.000000</td>\n",
       "      <td>26.000000</td>\n",
       "    </tr>\n",
       "    <tr>\n",
       "      <th>50%</th>\n",
       "      <td>0.000000</td>\n",
       "      <td>3.000000</td>\n",
       "      <td>21.000000</td>\n",
       "      <td>27.000000</td>\n",
       "      <td>2.000000</td>\n",
       "      <td>15.000000</td>\n",
       "      <td>29.000000</td>\n",
       "    </tr>\n",
       "    <tr>\n",
       "      <th>75%</th>\n",
       "      <td>0.000000</td>\n",
       "      <td>16.000000</td>\n",
       "      <td>24.000000</td>\n",
       "      <td>30.000000</td>\n",
       "      <td>3.000000</td>\n",
       "      <td>20.000000</td>\n",
       "      <td>32.000000</td>\n",
       "    </tr>\n",
       "    <tr>\n",
       "      <th>max</th>\n",
       "      <td>18.000000</td>\n",
       "      <td>24.000000</td>\n",
       "      <td>36.000000</td>\n",
       "      <td>37.000000</td>\n",
       "      <td>6.000000</td>\n",
       "      <td>29.000000</td>\n",
       "      <td>36.000000</td>\n",
       "    </tr>\n",
       "  </tbody>\n",
       "</table>\n",
       "</div>"
      ],
      "text/plain": [
       "       National Party  People's Party  Alliance Party  Civic Party  \\\n",
       "count      365.000000      365.000000      365.000000   365.000000   \n",
       "mean         1.789041        8.145205       19.638356    27.391781   \n",
       "std          4.499315        8.240763        6.351054     3.901597   \n",
       "min          0.000000        0.000000        2.000000    18.000000   \n",
       "25%          0.000000        1.000000       17.000000    24.000000   \n",
       "50%          0.000000        3.000000       21.000000    27.000000   \n",
       "75%          0.000000       16.000000       24.000000    30.000000   \n",
       "max         18.000000       24.000000       36.000000    37.000000   \n",
       "\n",
       "       Conservative Party  Liberal Party  Workers' Party  \n",
       "count          365.000000     365.000000      365.000000  \n",
       "mean             2.263014      12.087671       28.684932  \n",
       "std              1.648135       8.768261        3.790085  \n",
       "min              0.000000       0.000000       14.000000  \n",
       "25%              1.000000       3.000000       26.000000  \n",
       "50%              2.000000      15.000000       29.000000  \n",
       "75%              3.000000      20.000000       32.000000  \n",
       "max              6.000000      29.000000       36.000000  "
      ]
     },
     "execution_count": 25,
     "metadata": {},
     "output_type": "execute_result"
    }
   ],
   "source": [
    "data.describe()"
   ]
  },
  {
   "cell_type": "markdown",
   "metadata": {},
   "source": [
    "- The party with the largest difference between the maximum and minimum number of votes is Alliance Party. That difference is 34 votes."
   ]
  }
 ],
 "metadata": {
  "kernelspec": {
   "display_name": "Python 3",
   "language": "python",
   "name": "python3"
  },
  "language_info": {
   "codemirror_mode": {
    "name": "ipython",
    "version": 3
   },
   "file_extension": ".py",
   "mimetype": "text/x-python",
   "name": "python",
   "nbconvert_exporter": "python",
   "pygments_lexer": "ipython3",
   "version": "3.10.2"
  }
 },
 "nbformat": 4,
 "nbformat_minor": 4
}
