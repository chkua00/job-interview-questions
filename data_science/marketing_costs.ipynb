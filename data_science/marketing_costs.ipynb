{
 "cells": [
  {
   "cell_type": "markdown",
   "metadata": {},
   "source": [
    "# Marketing Costs"
   ]
  },
  {
   "cell_type": "markdown",
   "metadata": {},
   "source": [
    "Implement the *desired_marketing_expenditure* function, which returns the required amount of money that needs to be invested in a new marketing campaign to sell the desired number of units.\n",
    "\n",
    "Use the data from previous marketing campaigns to evaluate how the number of units sold grows **linearly** as the amount of money invested increases.\n",
    "\n",
    "For example, for the desired number of 60,000 units sold and previous campaign data from the table below, the function should return the float 250,000."
   ]
  },
  {
   "cell_type": "markdown",
   "metadata": {},
   "source": [
    "Previous campaigns:\n",
    "\n",
    "| **Campaign** | **Marketing expenditure** | **Units sold** |\n",
    "|--------------|---------------------------|----------------|\n",
    "| #1           | 300,000                   | 60,000         |\n",
    "| #2           | 200,000                   | 50,000         |\n",
    "| #3           | 400,000                   | 90,000         |\n",
    "| #4           | 300,000                   | 80,000         |\n",
    "| #5           | 100,000                   | 30,000         |"
   ]
  },
  {
   "cell_type": "markdown",
   "metadata": {},
   "source": [
    "**Solution:**"
   ]
  },
  {
   "cell_type": "code",
   "execution_count": 10,
   "metadata": {},
   "outputs": [],
   "source": [
    "import numpy as np\n",
    "from sklearn import linear_model"
   ]
  },
  {
   "cell_type": "code",
   "execution_count": 39,
   "metadata": {},
   "outputs": [],
   "source": [
    "def desired_marketing_expenditure(marketing_expenditure, units_sold, desired_units_sold):\n",
    "    \"\"\"\n",
    "    :param marketing_expenditure: (list) A list of integers with the expenditure for each previous campaign.\n",
    "    :param units_sold: (list) A list of integers with the number of units sold for each previous campaign.\n",
    "    :param desired_units_sold: (integer) Target number of units to sell in the new campaign.\n",
    "    :returns: (float) Required amount of money to be invested.\n",
    "    \"\"\"\n",
    "    X = np.array(marketing_expenditure).reshape(-1, 1)\n",
    "    y = np.array(units_sold).reshape(-1, 1)\n",
    "    model = linear_model.LinearRegression().fit(X, y)\n",
    "    \n",
    "    # y = ax + b\n",
    "    # x = (y - b) / a\n",
    "    X_desired = (desired_units_sold - model.intercept_) / model.coef_\n",
    "    \n",
    "    return X_desired"
   ]
  },
  {
   "cell_type": "code",
   "execution_count": null,
   "metadata": {},
   "outputs": [
    {
     "name": "stdout",
     "output_type": "stream",
     "text": [
      "[[250000.]]\n"
     ]
    }
   ],
   "source": [
    "#For example, with the parameters below, the function should return 250000.0\n",
    "print(desired_marketing_expenditure(\n",
    "    [300000, 200000, 400000, 300000, 100000],\n",
    "    [60000, 50000, 90000, 80000, 30000],\n",
    "    60000))"
   ]
  }
 ],
 "metadata": {
  "kernelspec": {
   "display_name": "Python 3",
   "language": "python",
   "name": "python3"
  },
  "language_info": {
   "codemirror_mode": {
    "name": "ipython",
    "version": 3
   },
   "file_extension": ".py",
   "mimetype": "text/x-python",
   "name": "python",
   "nbconvert_exporter": "python",
   "pygments_lexer": "ipython3",
   "version": "3.10.2"
  }
 },
 "nbformat": 4,
 "nbformat_minor": 4
}
